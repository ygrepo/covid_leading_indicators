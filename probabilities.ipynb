{
 "cells": [
  {
   "cell_type": "code",
   "execution_count": 1,
   "metadata": {},
   "outputs": [],
   "source": [
    "# For some reason Theano is unhappy when I run the GP, need to disable future warnings\n",
    "import warnings\n",
    "warnings.simplefilter(action='ignore', category=FutureWarning)\n",
    "\n",
    "import os\n",
    "import sys\n",
    "\n",
    "import requests\n",
    "import pymc3 as pm\n",
    "import pandas as pd\n",
    "import numpy as np\n",
    "import theano\n",
    "import theano.tensor as tt\n",
    "\n",
    "from matplotlib import pyplot as plt\n",
    "from matplotlib import dates as mdates\n",
    "from matplotlib import ticker\n",
    "\n",
    "from datetime import date\n",
    "from datetime import datetime\n",
    "\n",
    "from IPython.display import clear_output\n",
    "\n",
    "%config InlineBackend.figure_format = 'retina'"
   ]
  },
  {
   "cell_type": "code",
   "execution_count": 2,
   "metadata": {},
   "outputs": [
    {
     "data": {
      "text/plain": [
       "'/Users/gryv9001/code/nielsen/covid_leading_indicators'"
      ]
     },
     "execution_count": 2,
     "metadata": {},
     "output_type": "execute_result"
    }
   ],
   "source": [
    "%pwd"
   ]
  },
  {
   "cell_type": "code",
   "execution_count": 3,
   "metadata": {},
   "outputs": [],
   "source": [
    "SCRIPT_PATH='./scripts'\n",
    "module_path = os.path.abspath(os.path.join(SCRIPT_PATH))\n",
    "if module_path not in sys.path:\n",
    "    sys.path.append(module_path)"
   ]
  },
  {
   "cell_type": "code",
   "execution_count": 4,
   "metadata": {},
   "outputs": [],
   "source": [
    "%load_ext autoreload\n",
    "%autoreload 2"
   ]
  },
  {
   "cell_type": "code",
   "execution_count": 9,
   "metadata": {},
   "outputs": [],
   "source": [
    "from functions import pd_read_s3_multiple_parquets\n",
    "from collections import namedtuple\n",
    "from utils import read_deaths_data"
   ]
  },
  {
   "cell_type": "code",
   "execution_count": 13,
   "metadata": {},
   "outputs": [],
   "source": [
    "df  =read_deaths_data()"
   ]
  },
  {
   "cell_type": "code",
   "execution_count": 15,
   "metadata": {},
   "outputs": [],
   "source": [
    "ny_df = df[df.state == \"NY\"]"
   ]
  },
  {
   "cell_type": "code",
   "execution_count": 16,
   "metadata": {},
   "outputs": [
    {
     "data": {
      "text/html": [
       "<div>\n",
       "<style scoped>\n",
       "    .dataframe tbody tr th:only-of-type {\n",
       "        vertical-align: middle;\n",
       "    }\n",
       "\n",
       "    .dataframe tbody tr th {\n",
       "        vertical-align: top;\n",
       "    }\n",
       "\n",
       "    .dataframe thead th {\n",
       "        text-align: right;\n",
       "    }\n",
       "</style>\n",
       "<table border=\"1\" class=\"dataframe\">\n",
       "  <thead>\n",
       "    <tr style=\"text-align: right;\">\n",
       "      <th></th>\n",
       "      <th>countyFIPS</th>\n",
       "      <th>county</th>\n",
       "      <th>state</th>\n",
       "      <th>stateFIPS</th>\n",
       "      <th>date</th>\n",
       "      <th>deaths</th>\n",
       "      <th>new_deaths</th>\n",
       "    </tr>\n",
       "  </thead>\n",
       "  <tbody>\n",
       "    <tr>\n",
       "      <th>1861</th>\n",
       "      <td>0</td>\n",
       "      <td>Statewide Unallocated</td>\n",
       "      <td>NY</td>\n",
       "      <td>36</td>\n",
       "      <td>2020-01-22</td>\n",
       "      <td>0</td>\n",
       "      <td>0.0</td>\n",
       "    </tr>\n",
       "    <tr>\n",
       "      <th>1862</th>\n",
       "      <td>1</td>\n",
       "      <td>New York City Unallocated/Probable</td>\n",
       "      <td>NY</td>\n",
       "      <td>36</td>\n",
       "      <td>2020-01-22</td>\n",
       "      <td>0</td>\n",
       "      <td>0.0</td>\n",
       "    </tr>\n",
       "    <tr>\n",
       "      <th>1863</th>\n",
       "      <td>36001</td>\n",
       "      <td>Albany County</td>\n",
       "      <td>NY</td>\n",
       "      <td>36</td>\n",
       "      <td>2020-01-22</td>\n",
       "      <td>0</td>\n",
       "      <td>0.0</td>\n",
       "    </tr>\n",
       "    <tr>\n",
       "      <th>1864</th>\n",
       "      <td>36003</td>\n",
       "      <td>Allegany County</td>\n",
       "      <td>NY</td>\n",
       "      <td>36</td>\n",
       "      <td>2020-01-22</td>\n",
       "      <td>0</td>\n",
       "      <td>0.0</td>\n",
       "    </tr>\n",
       "    <tr>\n",
       "      <th>1865</th>\n",
       "      <td>36005</td>\n",
       "      <td>Bronx County</td>\n",
       "      <td>NY</td>\n",
       "      <td>36</td>\n",
       "      <td>2020-01-22</td>\n",
       "      <td>0</td>\n",
       "      <td>0.0</td>\n",
       "    </tr>\n",
       "  </tbody>\n",
       "</table>\n",
       "</div>"
      ],
      "text/plain": [
       "      countyFIPS                              county state  stateFIPS  \\\n",
       "1861           0               Statewide Unallocated    NY         36   \n",
       "1862           1  New York City Unallocated/Probable    NY         36   \n",
       "1863       36001                       Albany County    NY         36   \n",
       "1864       36003                     Allegany County    NY         36   \n",
       "1865       36005                        Bronx County    NY         36   \n",
       "\n",
       "           date  deaths  new_deaths  \n",
       "1861 2020-01-22       0         0.0  \n",
       "1862 2020-01-22       0         0.0  \n",
       "1863 2020-01-22       0         0.0  \n",
       "1864 2020-01-22       0         0.0  \n",
       "1865 2020-01-22       0         0.0  "
      ]
     },
     "execution_count": 16,
     "metadata": {},
     "output_type": "execute_result"
    }
   ],
   "source": [
    "ny_df.head()"
   ]
  },
  {
   "cell_type": "code",
   "execution_count": 17,
   "metadata": {},
   "outputs": [
    {
     "data": {
      "text/plain": [
       "array(['Statewide Unallocated', 'New York City Unallocated/Probable',\n",
       "       'Albany County', 'Allegany County', 'Bronx County',\n",
       "       'Broome County', 'Cattaraugus County', 'Cayuga County',\n",
       "       'Chautauqua County', 'Chemung County', 'Chenango County',\n",
       "       'Clinton County', 'Columbia County', 'Cortland County',\n",
       "       'Delaware County', 'Dutchess County', 'Erie County',\n",
       "       'Essex County', 'Franklin County', 'Fulton County',\n",
       "       'Genesee County', 'Greene County', 'Hamilton County',\n",
       "       'Herkimer County', 'Jefferson County', 'Kings County',\n",
       "       'Lewis County', 'Livingston County', 'Madison County',\n",
       "       'Monroe County', 'Montgomery County', 'Nassau County',\n",
       "       'New York County', 'Niagara County', 'Oneida County',\n",
       "       'Onondaga County', 'Ontario County', 'Orange County',\n",
       "       'Orleans County', 'Oswego County', 'Otsego County',\n",
       "       'Putnam County', 'Queens County', 'Rensselaer County',\n",
       "       'Richmond County', 'Rockland County', 'St. Lawrence County',\n",
       "       'Saratoga County', 'Schenectady County', 'Schoharie County',\n",
       "       'Schuyler County', 'Seneca County', 'Steuben County',\n",
       "       'Suffolk County', 'Sullivan County', 'Tioga County',\n",
       "       'Tompkins County', 'Ulster County', 'Warren County',\n",
       "       'Washington County', 'Wayne County', 'Westchester County',\n",
       "       'Wyoming County', 'Yates County'], dtype=object)"
      ]
     },
     "execution_count": 17,
     "metadata": {},
     "output_type": "execute_result"
    }
   ],
   "source": [
    "ny_df.county.unique()"
   ]
  },
  {
   "cell_type": "code",
   "execution_count": 7,
   "metadata": {},
   "outputs": [],
   "source": [
    "usa_df = pd.melt(\n",
    "        usa_df,\n",
    "        id_vars=[\"countyFIPS\", \"County Name\", \"State\", \"stateFIPS\"],\n",
    "        var_name=\"date\",\n",
    "        value_name=\"deaths\",\n",
    "    )\n",
    "usa_df[\"date\"] = pd.to_datetime(usa_df[\"date\"])"
   ]
  },
  {
   "cell_type": "code",
   "execution_count": 8,
   "metadata": {},
   "outputs": [
    {
     "data": {
      "text/html": [
       "<div>\n",
       "<style scoped>\n",
       "    .dataframe tbody tr th:only-of-type {\n",
       "        vertical-align: middle;\n",
       "    }\n",
       "\n",
       "    .dataframe tbody tr th {\n",
       "        vertical-align: top;\n",
       "    }\n",
       "\n",
       "    .dataframe thead th {\n",
       "        text-align: right;\n",
       "    }\n",
       "</style>\n",
       "<table border=\"1\" class=\"dataframe\">\n",
       "  <thead>\n",
       "    <tr style=\"text-align: right;\">\n",
       "      <th></th>\n",
       "      <th>countyFIPS</th>\n",
       "      <th>County Name</th>\n",
       "      <th>State</th>\n",
       "      <th>stateFIPS</th>\n",
       "      <th>date</th>\n",
       "      <th>deaths</th>\n",
       "    </tr>\n",
       "  </thead>\n",
       "  <tbody>\n",
       "    <tr>\n",
       "      <th>0</th>\n",
       "      <td>0</td>\n",
       "      <td>Statewide Unallocated</td>\n",
       "      <td>AL</td>\n",
       "      <td>1</td>\n",
       "      <td>2020-01-22</td>\n",
       "      <td>0</td>\n",
       "    </tr>\n",
       "    <tr>\n",
       "      <th>1</th>\n",
       "      <td>1001</td>\n",
       "      <td>Autauga County</td>\n",
       "      <td>AL</td>\n",
       "      <td>1</td>\n",
       "      <td>2020-01-22</td>\n",
       "      <td>0</td>\n",
       "    </tr>\n",
       "    <tr>\n",
       "      <th>2</th>\n",
       "      <td>1003</td>\n",
       "      <td>Baldwin County</td>\n",
       "      <td>AL</td>\n",
       "      <td>1</td>\n",
       "      <td>2020-01-22</td>\n",
       "      <td>0</td>\n",
       "    </tr>\n",
       "    <tr>\n",
       "      <th>3</th>\n",
       "      <td>1005</td>\n",
       "      <td>Barbour County</td>\n",
       "      <td>AL</td>\n",
       "      <td>1</td>\n",
       "      <td>2020-01-22</td>\n",
       "      <td>0</td>\n",
       "    </tr>\n",
       "    <tr>\n",
       "      <th>4</th>\n",
       "      <td>1007</td>\n",
       "      <td>Bibb County</td>\n",
       "      <td>AL</td>\n",
       "      <td>1</td>\n",
       "      <td>2020-01-22</td>\n",
       "      <td>0</td>\n",
       "    </tr>\n",
       "  </tbody>\n",
       "</table>\n",
       "</div>"
      ],
      "text/plain": [
       "   countyFIPS            County Name State  stateFIPS       date  deaths\n",
       "0           0  Statewide Unallocated    AL          1 2020-01-22       0\n",
       "1        1001         Autauga County    AL          1 2020-01-22       0\n",
       "2        1003         Baldwin County    AL          1 2020-01-22       0\n",
       "3        1005         Barbour County    AL          1 2020-01-22       0\n",
       "4        1007            Bibb County    AL          1 2020-01-22       0"
      ]
     },
     "execution_count": 8,
     "metadata": {},
     "output_type": "execute_result"
    }
   ],
   "source": [
    "usa_df.head()"
   ]
  },
  {
   "cell_type": "code",
   "execution_count": 51,
   "metadata": {},
   "outputs": [
    {
     "data": {
      "text/html": [
       "<div>\n",
       "<style scoped>\n",
       "    .dataframe tbody tr th:only-of-type {\n",
       "        vertical-align: middle;\n",
       "    }\n",
       "\n",
       "    .dataframe tbody tr th {\n",
       "        vertical-align: top;\n",
       "    }\n",
       "\n",
       "    .dataframe thead th {\n",
       "        text-align: right;\n",
       "    }\n",
       "</style>\n",
       "<table border=\"1\" class=\"dataframe\">\n",
       "  <thead>\n",
       "    <tr style=\"text-align: right;\">\n",
       "      <th></th>\n",
       "      <th>date</th>\n",
       "      <th>countyFIPS</th>\n",
       "      <th>deaths</th>\n",
       "    </tr>\n",
       "  </thead>\n",
       "  <tbody>\n",
       "    <tr>\n",
       "      <th>380200</th>\n",
       "      <td>5/14/20</td>\n",
       "      <td>3194</td>\n",
       "      <td>0</td>\n",
       "    </tr>\n",
       "    <tr>\n",
       "      <th>380201</th>\n",
       "      <td>5/15/20</td>\n",
       "      <td>3194</td>\n",
       "      <td>0</td>\n",
       "    </tr>\n",
       "    <tr>\n",
       "      <th>380202</th>\n",
       "      <td>5/16/20</td>\n",
       "      <td>3194</td>\n",
       "      <td>0</td>\n",
       "    </tr>\n",
       "    <tr>\n",
       "      <th>380203</th>\n",
       "      <td>5/17/20</td>\n",
       "      <td>3194</td>\n",
       "      <td>0</td>\n",
       "    </tr>\n",
       "    <tr>\n",
       "      <th>380204</th>\n",
       "      <td>5/18/20</td>\n",
       "      <td>3194</td>\n",
       "      <td>0</td>\n",
       "    </tr>\n",
       "  </tbody>\n",
       "</table>\n",
       "</div>"
      ],
      "text/plain": [
       "           date countyFIPS  deaths\n",
       "380200  5/14/20       3194       0\n",
       "380201  5/15/20       3194       0\n",
       "380202  5/16/20       3194       0\n",
       "380203  5/17/20       3194       0\n",
       "380204  5/18/20       3194       0"
      ]
     },
     "execution_count": 51,
     "metadata": {},
     "output_type": "execute_result"
    }
   ],
   "source": [
    "result = usa_df.drop([\"County Name\", \"State\", \"stateFIPS\"], axis=1)\n",
    "# dft = df.T\n",
    "# dft[\"date\"] = dft.index\n",
    "# result = melt(dft, id_vars=[\"date\"])\n",
    "# result.columns = [\"date\", \"brand\", \"sales\"]\n",
    "# print. (result)\n",
    "\n",
    "result = result.T\n",
    "result[\"date\"] = result.index\n",
    "result = pd.melt(result, id_vars=[\"date\"])\n",
    "result.columns = [\"date\",  \"countyFIPS\", \"deaths\"]\n",
    "result.tail()"
   ]
  },
  {
   "cell_type": "code",
   "execution_count": 41,
   "metadata": {},
   "outputs": [
    {
     "data": {
      "text/html": [
       "<div>\n",
       "<style scoped>\n",
       "    .dataframe tbody tr th:only-of-type {\n",
       "        vertical-align: middle;\n",
       "    }\n",
       "\n",
       "    .dataframe tbody tr th {\n",
       "        vertical-align: top;\n",
       "    }\n",
       "\n",
       "    .dataframe thead th {\n",
       "        text-align: right;\n",
       "    }\n",
       "</style>\n",
       "<table border=\"1\" class=\"dataframe\">\n",
       "  <thead>\n",
       "    <tr style=\"text-align: right;\">\n",
       "      <th></th>\n",
       "      <th>0</th>\n",
       "      <th>1</th>\n",
       "      <th>2</th>\n",
       "      <th>3</th>\n",
       "      <th>4</th>\n",
       "      <th>5</th>\n",
       "      <th>6</th>\n",
       "      <th>7</th>\n",
       "      <th>8</th>\n",
       "      <th>9</th>\n",
       "      <th>...</th>\n",
       "      <th>3185</th>\n",
       "      <th>3186</th>\n",
       "      <th>3187</th>\n",
       "      <th>3188</th>\n",
       "      <th>3189</th>\n",
       "      <th>3190</th>\n",
       "      <th>3191</th>\n",
       "      <th>3192</th>\n",
       "      <th>3193</th>\n",
       "      <th>3194</th>\n",
       "    </tr>\n",
       "  </thead>\n",
       "  <tbody>\n",
       "    <tr>\n",
       "      <th>countyFIPS</th>\n",
       "      <td>0</td>\n",
       "      <td>1001</td>\n",
       "      <td>1003</td>\n",
       "      <td>1005</td>\n",
       "      <td>1007</td>\n",
       "      <td>1009</td>\n",
       "      <td>1011</td>\n",
       "      <td>1013</td>\n",
       "      <td>1015</td>\n",
       "      <td>1017</td>\n",
       "      <td>...</td>\n",
       "      <td>56027</td>\n",
       "      <td>56029</td>\n",
       "      <td>56031</td>\n",
       "      <td>56033</td>\n",
       "      <td>56035</td>\n",
       "      <td>56037</td>\n",
       "      <td>56039</td>\n",
       "      <td>56041</td>\n",
       "      <td>56043</td>\n",
       "      <td>56045</td>\n",
       "    </tr>\n",
       "    <tr>\n",
       "      <th>County Name</th>\n",
       "      <td>Statewide Unallocated</td>\n",
       "      <td>Autauga County</td>\n",
       "      <td>Baldwin County</td>\n",
       "      <td>Barbour County</td>\n",
       "      <td>Bibb County</td>\n",
       "      <td>Blount County</td>\n",
       "      <td>Bullock County</td>\n",
       "      <td>Butler County</td>\n",
       "      <td>Calhoun County</td>\n",
       "      <td>Chambers County</td>\n",
       "      <td>...</td>\n",
       "      <td>Niobrara County</td>\n",
       "      <td>Park County</td>\n",
       "      <td>Platte County</td>\n",
       "      <td>Sheridan County</td>\n",
       "      <td>Sublette County</td>\n",
       "      <td>Sweetwater County</td>\n",
       "      <td>Teton County</td>\n",
       "      <td>Uinta County</td>\n",
       "      <td>Washakie County</td>\n",
       "      <td>Weston County</td>\n",
       "    </tr>\n",
       "    <tr>\n",
       "      <th>State</th>\n",
       "      <td>AL</td>\n",
       "      <td>AL</td>\n",
       "      <td>AL</td>\n",
       "      <td>AL</td>\n",
       "      <td>AL</td>\n",
       "      <td>AL</td>\n",
       "      <td>AL</td>\n",
       "      <td>AL</td>\n",
       "      <td>AL</td>\n",
       "      <td>AL</td>\n",
       "      <td>...</td>\n",
       "      <td>WY</td>\n",
       "      <td>WY</td>\n",
       "      <td>WY</td>\n",
       "      <td>WY</td>\n",
       "      <td>WY</td>\n",
       "      <td>WY</td>\n",
       "      <td>WY</td>\n",
       "      <td>WY</td>\n",
       "      <td>WY</td>\n",
       "      <td>WY</td>\n",
       "    </tr>\n",
       "    <tr>\n",
       "      <th>stateFIPS</th>\n",
       "      <td>1</td>\n",
       "      <td>1</td>\n",
       "      <td>1</td>\n",
       "      <td>1</td>\n",
       "      <td>1</td>\n",
       "      <td>1</td>\n",
       "      <td>1</td>\n",
       "      <td>1</td>\n",
       "      <td>1</td>\n",
       "      <td>1</td>\n",
       "      <td>...</td>\n",
       "      <td>56</td>\n",
       "      <td>56</td>\n",
       "      <td>56</td>\n",
       "      <td>56</td>\n",
       "      <td>56</td>\n",
       "      <td>56</td>\n",
       "      <td>56</td>\n",
       "      <td>56</td>\n",
       "      <td>56</td>\n",
       "      <td>56</td>\n",
       "    </tr>\n",
       "    <tr>\n",
       "      <th>1/22/20</th>\n",
       "      <td>0</td>\n",
       "      <td>0</td>\n",
       "      <td>0</td>\n",
       "      <td>0</td>\n",
       "      <td>0</td>\n",
       "      <td>0</td>\n",
       "      <td>0</td>\n",
       "      <td>0</td>\n",
       "      <td>0</td>\n",
       "      <td>0</td>\n",
       "      <td>...</td>\n",
       "      <td>0</td>\n",
       "      <td>0</td>\n",
       "      <td>0</td>\n",
       "      <td>0</td>\n",
       "      <td>0</td>\n",
       "      <td>0</td>\n",
       "      <td>0</td>\n",
       "      <td>0</td>\n",
       "      <td>0</td>\n",
       "      <td>0</td>\n",
       "    </tr>\n",
       "    <tr>\n",
       "      <th>...</th>\n",
       "      <td>...</td>\n",
       "      <td>...</td>\n",
       "      <td>...</td>\n",
       "      <td>...</td>\n",
       "      <td>...</td>\n",
       "      <td>...</td>\n",
       "      <td>...</td>\n",
       "      <td>...</td>\n",
       "      <td>...</td>\n",
       "      <td>...</td>\n",
       "      <td>...</td>\n",
       "      <td>...</td>\n",
       "      <td>...</td>\n",
       "      <td>...</td>\n",
       "      <td>...</td>\n",
       "      <td>...</td>\n",
       "      <td>...</td>\n",
       "      <td>...</td>\n",
       "      <td>...</td>\n",
       "      <td>...</td>\n",
       "      <td>...</td>\n",
       "    </tr>\n",
       "    <tr>\n",
       "      <th>5/14/20</th>\n",
       "      <td>0</td>\n",
       "      <td>4</td>\n",
       "      <td>8</td>\n",
       "      <td>1</td>\n",
       "      <td>1</td>\n",
       "      <td>0</td>\n",
       "      <td>1</td>\n",
       "      <td>8</td>\n",
       "      <td>3</td>\n",
       "      <td>22</td>\n",
       "      <td>...</td>\n",
       "      <td>0</td>\n",
       "      <td>0</td>\n",
       "      <td>0</td>\n",
       "      <td>0</td>\n",
       "      <td>0</td>\n",
       "      <td>0</td>\n",
       "      <td>1</td>\n",
       "      <td>0</td>\n",
       "      <td>0</td>\n",
       "      <td>0</td>\n",
       "    </tr>\n",
       "    <tr>\n",
       "      <th>5/15/20</th>\n",
       "      <td>0</td>\n",
       "      <td>4</td>\n",
       "      <td>8</td>\n",
       "      <td>1</td>\n",
       "      <td>1</td>\n",
       "      <td>0</td>\n",
       "      <td>1</td>\n",
       "      <td>9</td>\n",
       "      <td>3</td>\n",
       "      <td>22</td>\n",
       "      <td>...</td>\n",
       "      <td>0</td>\n",
       "      <td>0</td>\n",
       "      <td>0</td>\n",
       "      <td>0</td>\n",
       "      <td>0</td>\n",
       "      <td>0</td>\n",
       "      <td>1</td>\n",
       "      <td>0</td>\n",
       "      <td>0</td>\n",
       "      <td>0</td>\n",
       "    </tr>\n",
       "    <tr>\n",
       "      <th>5/16/20</th>\n",
       "      <td>0</td>\n",
       "      <td>4</td>\n",
       "      <td>8</td>\n",
       "      <td>1</td>\n",
       "      <td>1</td>\n",
       "      <td>0</td>\n",
       "      <td>1</td>\n",
       "      <td>9</td>\n",
       "      <td>3</td>\n",
       "      <td>22</td>\n",
       "      <td>...</td>\n",
       "      <td>0</td>\n",
       "      <td>0</td>\n",
       "      <td>0</td>\n",
       "      <td>0</td>\n",
       "      <td>0</td>\n",
       "      <td>0</td>\n",
       "      <td>1</td>\n",
       "      <td>0</td>\n",
       "      <td>0</td>\n",
       "      <td>0</td>\n",
       "    </tr>\n",
       "    <tr>\n",
       "      <th>5/17/20</th>\n",
       "      <td>0</td>\n",
       "      <td>4</td>\n",
       "      <td>8</td>\n",
       "      <td>1</td>\n",
       "      <td>1</td>\n",
       "      <td>1</td>\n",
       "      <td>1</td>\n",
       "      <td>9</td>\n",
       "      <td>3</td>\n",
       "      <td>22</td>\n",
       "      <td>...</td>\n",
       "      <td>0</td>\n",
       "      <td>0</td>\n",
       "      <td>0</td>\n",
       "      <td>0</td>\n",
       "      <td>0</td>\n",
       "      <td>0</td>\n",
       "      <td>1</td>\n",
       "      <td>0</td>\n",
       "      <td>0</td>\n",
       "      <td>0</td>\n",
       "    </tr>\n",
       "    <tr>\n",
       "      <th>5/18/20</th>\n",
       "      <td>0</td>\n",
       "      <td>4</td>\n",
       "      <td>8</td>\n",
       "      <td>1</td>\n",
       "      <td>1</td>\n",
       "      <td>1</td>\n",
       "      <td>1</td>\n",
       "      <td>10</td>\n",
       "      <td>3</td>\n",
       "      <td>22</td>\n",
       "      <td>...</td>\n",
       "      <td>0</td>\n",
       "      <td>0</td>\n",
       "      <td>0</td>\n",
       "      <td>0</td>\n",
       "      <td>0</td>\n",
       "      <td>0</td>\n",
       "      <td>1</td>\n",
       "      <td>0</td>\n",
       "      <td>0</td>\n",
       "      <td>0</td>\n",
       "    </tr>\n",
       "  </tbody>\n",
       "</table>\n",
       "<p>122 rows × 3195 columns</p>\n",
       "</div>"
      ],
      "text/plain": [
       "                              0               1               2     \\\n",
       "countyFIPS                       0            1001            1003   \n",
       "County Name  Statewide Unallocated  Autauga County  Baldwin County   \n",
       "State                           AL              AL              AL   \n",
       "stateFIPS                        1               1               1   \n",
       "1/22/20                          0               0               0   \n",
       "...                            ...             ...             ...   \n",
       "5/14/20                          0               4               8   \n",
       "5/15/20                          0               4               8   \n",
       "5/16/20                          0               4               8   \n",
       "5/17/20                          0               4               8   \n",
       "5/18/20                          0               4               8   \n",
       "\n",
       "                       3            4              5               6     \\\n",
       "countyFIPS             1005         1007           1009            1011   \n",
       "County Name  Barbour County  Bibb County  Blount County  Bullock County   \n",
       "State                    AL           AL             AL              AL   \n",
       "stateFIPS                 1            1              1               1   \n",
       "1/22/20                   0            0              0               0   \n",
       "...                     ...          ...            ...             ...   \n",
       "5/14/20                   1            1              0               1   \n",
       "5/15/20                   1            1              0               1   \n",
       "5/16/20                   1            1              0               1   \n",
       "5/17/20                   1            1              1               1   \n",
       "5/18/20                   1            1              1               1   \n",
       "\n",
       "                      7               8                9     ...  \\\n",
       "countyFIPS            1013            1015             1017  ...   \n",
       "County Name  Butler County  Calhoun County  Chambers County  ...   \n",
       "State                   AL              AL               AL  ...   \n",
       "stateFIPS                1               1                1  ...   \n",
       "1/22/20                  0               0                0  ...   \n",
       "...                    ...             ...              ...  ...   \n",
       "5/14/20                  8               3               22  ...   \n",
       "5/15/20                  9               3               22  ...   \n",
       "5/16/20                  9               3               22  ...   \n",
       "5/17/20                  9               3               22  ...   \n",
       "5/18/20                 10               3               22  ...   \n",
       "\n",
       "                        3185         3186           3187             3188  \\\n",
       "countyFIPS             56027        56029          56031            56033   \n",
       "County Name  Niobrara County  Park County  Platte County  Sheridan County   \n",
       "State                     WY           WY             WY               WY   \n",
       "stateFIPS                 56           56             56               56   \n",
       "1/22/20                    0            0              0                0   \n",
       "...                      ...          ...            ...              ...   \n",
       "5/14/20                    0            0              0                0   \n",
       "5/15/20                    0            0              0                0   \n",
       "5/16/20                    0            0              0                0   \n",
       "5/17/20                    0            0              0                0   \n",
       "5/18/20                    0            0              0                0   \n",
       "\n",
       "                        3189               3190          3191          3192  \\\n",
       "countyFIPS             56035              56037         56039         56041   \n",
       "County Name  Sublette County  Sweetwater County  Teton County  Uinta County   \n",
       "State                     WY                 WY            WY            WY   \n",
       "stateFIPS                 56                 56            56            56   \n",
       "1/22/20                    0                  0             0             0   \n",
       "...                      ...                ...           ...           ...   \n",
       "5/14/20                    0                  0             1             0   \n",
       "5/15/20                    0                  0             1             0   \n",
       "5/16/20                    0                  0             1             0   \n",
       "5/17/20                    0                  0             1             0   \n",
       "5/18/20                    0                  0             1             0   \n",
       "\n",
       "                        3193           3194  \n",
       "countyFIPS             56043          56045  \n",
       "County Name  Washakie County  Weston County  \n",
       "State                     WY             WY  \n",
       "stateFIPS                 56             56  \n",
       "1/22/20                    0              0  \n",
       "...                      ...            ...  \n",
       "5/14/20                    0              0  \n",
       "5/15/20                    0              0  \n",
       "5/16/20                    0              0  \n",
       "5/17/20                    0              0  \n",
       "5/18/20                    0              0  \n",
       "\n",
       "[122 rows x 3195 columns]"
      ]
     },
     "execution_count": 41,
     "metadata": {},
     "output_type": "execute_result"
    }
   ],
   "source": [
    "result = usa_df.T\n",
    "# usa_df_t[\"date\"] = usa_df_t.index\n",
    "# result = pd.melt(usa_df_t, id_vars=[\"date\"])\n",
    "#result.columns = [\"date\",  \"countyFIPS\", \"County Name\",\"State\", \"StateFIPS\"]\n",
    "result"
   ]
  },
  {
   "cell_type": "code",
   "execution_count": 38,
   "metadata": {},
   "outputs": [
    {
     "data": {
      "text/plain": [
       "Index(['countyFIPS', 'County Name', 'State', 'stateFIPS', '1/22/20', '1/23/20',\n",
       "       '1/24/20', '1/25/20', '1/26/20', '1/27/20',\n",
       "       ...\n",
       "       '5/9/20', '5/10/20', '5/11/20', '5/12/20', '5/13/20', '5/14/20',\n",
       "       '5/15/20', '5/16/20', '5/17/20', '5/18/20'],\n",
       "      dtype='object', length=122)"
      ]
     },
     "execution_count": 38,
     "metadata": {},
     "output_type": "execute_result"
    }
   ],
   "source": [
    "usa_df[(usa_df[\"County Name\"] == \"Teton County\") & (usa_df[\"State\"] == \"WY\")].columns"
   ]
  },
  {
   "cell_type": "code",
   "execution_count": 63,
   "metadata": {},
   "outputs": [],
   "source": [
    "file_name=\"./data/cases_and_deaths_dmas\"\n",
    "df = pd.read_parquet(file_name)"
   ]
  },
  {
   "cell_type": "code",
   "execution_count": 64,
   "metadata": {},
   "outputs": [
    {
     "data": {
      "text/html": [
       "<div>\n",
       "<style scoped>\n",
       "    .dataframe tbody tr th:only-of-type {\n",
       "        vertical-align: middle;\n",
       "    }\n",
       "\n",
       "    .dataframe tbody tr th {\n",
       "        vertical-align: top;\n",
       "    }\n",
       "\n",
       "    .dataframe thead th {\n",
       "        text-align: right;\n",
       "    }\n",
       "</style>\n",
       "<table border=\"1\" class=\"dataframe\">\n",
       "  <thead>\n",
       "    <tr style=\"text-align: right;\">\n",
       "      <th></th>\n",
       "      <th>date</th>\n",
       "      <th>state</th>\n",
       "      <th>state_abbreviation</th>\n",
       "      <th>county_fips</th>\n",
       "      <th>population</th>\n",
       "      <th>cases</th>\n",
       "      <th>cases_norm</th>\n",
       "      <th>deaths</th>\n",
       "      <th>deaths_norm</th>\n",
       "      <th>fips_id</th>\n",
       "      <th>county</th>\n",
       "      <th>dma_id</th>\n",
       "      <th>dma_name</th>\n",
       "      <th>zip</th>\n",
       "    </tr>\n",
       "  </thead>\n",
       "  <tbody>\n",
       "    <tr>\n",
       "      <th>0</th>\n",
       "      <td>2020-03-12</td>\n",
       "      <td>Virginia</td>\n",
       "      <td>VA</td>\n",
       "      <td>760.0</td>\n",
       "      <td>230436</td>\n",
       "      <td>0</td>\n",
       "      <td>0.0</td>\n",
       "      <td>0</td>\n",
       "      <td>0.0</td>\n",
       "      <td>51760</td>\n",
       "      <td>Richmond City</td>\n",
       "      <td>556</td>\n",
       "      <td>RICHMOND-PETERSBURG</td>\n",
       "      <td>23298</td>\n",
       "    </tr>\n",
       "    <tr>\n",
       "      <th>1</th>\n",
       "      <td>2020-03-12</td>\n",
       "      <td>Virginia</td>\n",
       "      <td>VA</td>\n",
       "      <td>760.0</td>\n",
       "      <td>230436</td>\n",
       "      <td>0</td>\n",
       "      <td>0.0</td>\n",
       "      <td>0</td>\n",
       "      <td>0.0</td>\n",
       "      <td>51760</td>\n",
       "      <td>Richmond City</td>\n",
       "      <td>556</td>\n",
       "      <td>RICHMOND-PETERSBURG</td>\n",
       "      <td>23295</td>\n",
       "    </tr>\n",
       "    <tr>\n",
       "      <th>2</th>\n",
       "      <td>2020-03-12</td>\n",
       "      <td>Virginia</td>\n",
       "      <td>VA</td>\n",
       "      <td>760.0</td>\n",
       "      <td>230436</td>\n",
       "      <td>0</td>\n",
       "      <td>0.0</td>\n",
       "      <td>0</td>\n",
       "      <td>0.0</td>\n",
       "      <td>51760</td>\n",
       "      <td>Richmond City</td>\n",
       "      <td>556</td>\n",
       "      <td>RICHMOND-PETERSBURG</td>\n",
       "      <td>23293</td>\n",
       "    </tr>\n",
       "    <tr>\n",
       "      <th>3</th>\n",
       "      <td>2020-03-12</td>\n",
       "      <td>Virginia</td>\n",
       "      <td>VA</td>\n",
       "      <td>760.0</td>\n",
       "      <td>230436</td>\n",
       "      <td>0</td>\n",
       "      <td>0.0</td>\n",
       "      <td>0</td>\n",
       "      <td>0.0</td>\n",
       "      <td>51760</td>\n",
       "      <td>Richmond City</td>\n",
       "      <td>556</td>\n",
       "      <td>RICHMOND-PETERSBURG</td>\n",
       "      <td>23292</td>\n",
       "    </tr>\n",
       "    <tr>\n",
       "      <th>4</th>\n",
       "      <td>2020-03-12</td>\n",
       "      <td>Virginia</td>\n",
       "      <td>VA</td>\n",
       "      <td>760.0</td>\n",
       "      <td>230436</td>\n",
       "      <td>0</td>\n",
       "      <td>0.0</td>\n",
       "      <td>0</td>\n",
       "      <td>0.0</td>\n",
       "      <td>51760</td>\n",
       "      <td>Richmond City</td>\n",
       "      <td>556</td>\n",
       "      <td>RICHMOND-PETERSBURG</td>\n",
       "      <td>23291</td>\n",
       "    </tr>\n",
       "  </tbody>\n",
       "</table>\n",
       "</div>"
      ],
      "text/plain": [
       "         date     state state_abbreviation  county_fips  population  cases  \\\n",
       "0  2020-03-12  Virginia                 VA        760.0      230436      0   \n",
       "1  2020-03-12  Virginia                 VA        760.0      230436      0   \n",
       "2  2020-03-12  Virginia                 VA        760.0      230436      0   \n",
       "3  2020-03-12  Virginia                 VA        760.0      230436      0   \n",
       "4  2020-03-12  Virginia                 VA        760.0      230436      0   \n",
       "\n",
       "   cases_norm  deaths  deaths_norm  fips_id         county  dma_id  \\\n",
       "0         0.0       0          0.0    51760  Richmond City     556   \n",
       "1         0.0       0          0.0    51760  Richmond City     556   \n",
       "2         0.0       0          0.0    51760  Richmond City     556   \n",
       "3         0.0       0          0.0    51760  Richmond City     556   \n",
       "4         0.0       0          0.0    51760  Richmond City     556   \n",
       "\n",
       "              dma_name    zip  \n",
       "0  RICHMOND-PETERSBURG  23298  \n",
       "1  RICHMOND-PETERSBURG  23295  \n",
       "2  RICHMOND-PETERSBURG  23293  \n",
       "3  RICHMOND-PETERSBURG  23292  \n",
       "4  RICHMOND-PETERSBURG  23291  "
      ]
     },
     "execution_count": 64,
     "metadata": {},
     "output_type": "execute_result"
    }
   ],
   "source": [
    "df.head()"
   ]
  },
  {
   "cell_type": "code",
   "execution_count": 65,
   "metadata": {},
   "outputs": [
    {
     "data": {
      "text/plain": [
       "array(['Richmond City', 'Roanoke City', 'Salem', ..., 'Wythe',\n",
       "       'Fairfax City', 'Franklin City'], dtype=object)"
      ]
     },
     "execution_count": 65,
     "metadata": {},
     "output_type": "execute_result"
    }
   ],
   "source": [
    "df.county.unique()"
   ]
  },
  {
   "cell_type": "code",
   "execution_count": 66,
   "metadata": {},
   "outputs": [],
   "source": [
    "dma_501 = df[df[\"dma_id\"] == 501]"
   ]
  },
  {
   "cell_type": "code",
   "execution_count": 67,
   "metadata": {},
   "outputs": [
    {
     "data": {
      "text/plain": [
       "date                   object\n",
       "state                  object\n",
       "state_abbreviation     object\n",
       "county_fips           float64\n",
       "population              int64\n",
       "cases                   int64\n",
       "cases_norm            float64\n",
       "deaths                  int64\n",
       "deaths_norm           float64\n",
       "fips_id                 int64\n",
       "county                 object\n",
       "dma_id                  int64\n",
       "dma_name               object\n",
       "zip                     int64\n",
       "dtype: object"
      ]
     },
     "execution_count": 67,
     "metadata": {},
     "output_type": "execute_result"
    }
   ],
   "source": [
    "dma_501.dtypes"
   ]
  },
  {
   "cell_type": "code",
   "execution_count": 68,
   "metadata": {},
   "outputs": [
    {
     "name": "stderr",
     "output_type": "stream",
     "text": [
      "/Users/gryv9001/miniconda3/envs/dsai37/lib/python3.7/site-packages/ipykernel_launcher.py:1: SettingWithCopyWarning: \n",
      "A value is trying to be set on a copy of a slice from a DataFrame.\n",
      "Try using .loc[row_indexer,col_indexer] = value instead\n",
      "\n",
      "See the caveats in the documentation: http://pandas.pydata.org/pandas-docs/stable/user_guide/indexing.html#returning-a-view-versus-a-copy\n",
      "  \"\"\"Entry point for launching an IPython kernel.\n"
     ]
    }
   ],
   "source": [
    "dma_501[\"date\"] =  pd.to_datetime(dma_501[\"date\"], format='%Y-%m-%d')"
   ]
  },
  {
   "cell_type": "code",
   "execution_count": 69,
   "metadata": {},
   "outputs": [],
   "source": [
    "dma_501 = dma_501.set_index(\"date\")\n",
    "dma_501.sort_index(inplace=True)"
   ]
  },
  {
   "cell_type": "code",
   "execution_count": 70,
   "metadata": {},
   "outputs": [
    {
     "data": {
      "text/plain": [
       "array(['Fairfield', 'Orange', 'New York', 'Queens', 'Putnam', 'Nassau',\n",
       "       'Ulster', 'Westchester', 'Sullivan', 'Pike', 'Suffolk', 'Rockland',\n",
       "       'Richmond', 'Hunterdon', 'Middlesex', 'Essex', 'Hudson',\n",
       "       'Monmouth', 'Morris', 'Bergen', 'Dutchess', 'Bronx', 'Union',\n",
       "       'Warren', 'Kings', 'Ocean', 'Passaic', 'Sussex', 'Somerset'],\n",
       "      dtype=object)"
      ]
     },
     "execution_count": 70,
     "metadata": {},
     "output_type": "execute_result"
    }
   ],
   "source": [
    "dma_501.county.unique()"
   ]
  },
  {
   "cell_type": "code",
   "execution_count": 71,
   "metadata": {},
   "outputs": [
    {
     "data": {
      "text/html": [
       "<div>\n",
       "<style scoped>\n",
       "    .dataframe tbody tr th:only-of-type {\n",
       "        vertical-align: middle;\n",
       "    }\n",
       "\n",
       "    .dataframe tbody tr th {\n",
       "        vertical-align: top;\n",
       "    }\n",
       "\n",
       "    .dataframe thead th {\n",
       "        text-align: right;\n",
       "    }\n",
       "</style>\n",
       "<table border=\"1\" class=\"dataframe\">\n",
       "  <thead>\n",
       "    <tr style=\"text-align: right;\">\n",
       "      <th></th>\n",
       "      <th>state</th>\n",
       "      <th>state_abbreviation</th>\n",
       "      <th>county_fips</th>\n",
       "      <th>population</th>\n",
       "      <th>cases</th>\n",
       "      <th>cases_norm</th>\n",
       "      <th>deaths</th>\n",
       "      <th>deaths_norm</th>\n",
       "      <th>fips_id</th>\n",
       "      <th>county</th>\n",
       "      <th>dma_id</th>\n",
       "      <th>dma_name</th>\n",
       "      <th>zip</th>\n",
       "    </tr>\n",
       "    <tr>\n",
       "      <th>date</th>\n",
       "      <th></th>\n",
       "      <th></th>\n",
       "      <th></th>\n",
       "      <th></th>\n",
       "      <th></th>\n",
       "      <th></th>\n",
       "      <th></th>\n",
       "      <th></th>\n",
       "      <th></th>\n",
       "      <th></th>\n",
       "      <th></th>\n",
       "      <th></th>\n",
       "      <th></th>\n",
       "    </tr>\n",
       "  </thead>\n",
       "  <tbody>\n",
       "    <tr>\n",
       "      <th>2020-01-22</th>\n",
       "      <td>New York</td>\n",
       "      <td>NY</td>\n",
       "      <td>61.0</td>\n",
       "      <td>8336817</td>\n",
       "      <td>0</td>\n",
       "      <td>0.000000</td>\n",
       "      <td>0</td>\n",
       "      <td>0.000000</td>\n",
       "      <td>36061</td>\n",
       "      <td>New York</td>\n",
       "      <td>501</td>\n",
       "      <td>NEW YORK</td>\n",
       "      <td>10001</td>\n",
       "    </tr>\n",
       "    <tr>\n",
       "      <th>2020-01-22</th>\n",
       "      <td>New York</td>\n",
       "      <td>NY</td>\n",
       "      <td>61.0</td>\n",
       "      <td>8336817</td>\n",
       "      <td>0</td>\n",
       "      <td>0.000000</td>\n",
       "      <td>0</td>\n",
       "      <td>0.000000</td>\n",
       "      <td>36061</td>\n",
       "      <td>New York</td>\n",
       "      <td>501</td>\n",
       "      <td>NEW YORK</td>\n",
       "      <td>10002</td>\n",
       "    </tr>\n",
       "    <tr>\n",
       "      <th>2020-01-22</th>\n",
       "      <td>New York</td>\n",
       "      <td>NY</td>\n",
       "      <td>61.0</td>\n",
       "      <td>8336817</td>\n",
       "      <td>0</td>\n",
       "      <td>0.000000</td>\n",
       "      <td>0</td>\n",
       "      <td>0.000000</td>\n",
       "      <td>36061</td>\n",
       "      <td>New York</td>\n",
       "      <td>501</td>\n",
       "      <td>NEW YORK</td>\n",
       "      <td>10003</td>\n",
       "    </tr>\n",
       "    <tr>\n",
       "      <th>2020-01-22</th>\n",
       "      <td>New York</td>\n",
       "      <td>NY</td>\n",
       "      <td>61.0</td>\n",
       "      <td>8336817</td>\n",
       "      <td>0</td>\n",
       "      <td>0.000000</td>\n",
       "      <td>0</td>\n",
       "      <td>0.000000</td>\n",
       "      <td>36061</td>\n",
       "      <td>New York</td>\n",
       "      <td>501</td>\n",
       "      <td>NEW YORK</td>\n",
       "      <td>10028</td>\n",
       "    </tr>\n",
       "    <tr>\n",
       "      <th>2020-01-22</th>\n",
       "      <td>New York</td>\n",
       "      <td>NY</td>\n",
       "      <td>61.0</td>\n",
       "      <td>8336817</td>\n",
       "      <td>0</td>\n",
       "      <td>0.000000</td>\n",
       "      <td>0</td>\n",
       "      <td>0.000000</td>\n",
       "      <td>36061</td>\n",
       "      <td>New York</td>\n",
       "      <td>501</td>\n",
       "      <td>NEW YORK</td>\n",
       "      <td>10029</td>\n",
       "    </tr>\n",
       "    <tr>\n",
       "      <th>...</th>\n",
       "      <td>...</td>\n",
       "      <td>...</td>\n",
       "      <td>...</td>\n",
       "      <td>...</td>\n",
       "      <td>...</td>\n",
       "      <td>...</td>\n",
       "      <td>...</td>\n",
       "      <td>...</td>\n",
       "      <td>...</td>\n",
       "      <td>...</td>\n",
       "      <td>...</td>\n",
       "      <td>...</td>\n",
       "      <td>...</td>\n",
       "    </tr>\n",
       "    <tr>\n",
       "      <th>2020-05-17</th>\n",
       "      <td>New York</td>\n",
       "      <td>NY</td>\n",
       "      <td>61.0</td>\n",
       "      <td>8336817</td>\n",
       "      <td>192593</td>\n",
       "      <td>2310.150265</td>\n",
       "      <td>20720</td>\n",
       "      <td>248.536102</td>\n",
       "      <td>36061</td>\n",
       "      <td>New York</td>\n",
       "      <td>501</td>\n",
       "      <td>NEW YORK</td>\n",
       "      <td>10048</td>\n",
       "    </tr>\n",
       "    <tr>\n",
       "      <th>2020-05-17</th>\n",
       "      <td>New York</td>\n",
       "      <td>NY</td>\n",
       "      <td>61.0</td>\n",
       "      <td>8336817</td>\n",
       "      <td>192593</td>\n",
       "      <td>2310.150265</td>\n",
       "      <td>20720</td>\n",
       "      <td>248.536102</td>\n",
       "      <td>36061</td>\n",
       "      <td>New York</td>\n",
       "      <td>501</td>\n",
       "      <td>NEW YORK</td>\n",
       "      <td>10047</td>\n",
       "    </tr>\n",
       "    <tr>\n",
       "      <th>2020-05-17</th>\n",
       "      <td>New York</td>\n",
       "      <td>NY</td>\n",
       "      <td>61.0</td>\n",
       "      <td>8336817</td>\n",
       "      <td>192593</td>\n",
       "      <td>2310.150265</td>\n",
       "      <td>20720</td>\n",
       "      <td>248.536102</td>\n",
       "      <td>36061</td>\n",
       "      <td>New York</td>\n",
       "      <td>501</td>\n",
       "      <td>NEW YORK</td>\n",
       "      <td>10046</td>\n",
       "    </tr>\n",
       "    <tr>\n",
       "      <th>2020-05-17</th>\n",
       "      <td>New York</td>\n",
       "      <td>NY</td>\n",
       "      <td>61.0</td>\n",
       "      <td>8336817</td>\n",
       "      <td>192593</td>\n",
       "      <td>2310.150265</td>\n",
       "      <td>20720</td>\n",
       "      <td>248.536102</td>\n",
       "      <td>36061</td>\n",
       "      <td>New York</td>\n",
       "      <td>501</td>\n",
       "      <td>NEW YORK</td>\n",
       "      <td>10045</td>\n",
       "    </tr>\n",
       "    <tr>\n",
       "      <th>2020-05-17</th>\n",
       "      <td>New York</td>\n",
       "      <td>NY</td>\n",
       "      <td>61.0</td>\n",
       "      <td>8336817</td>\n",
       "      <td>192593</td>\n",
       "      <td>2310.150265</td>\n",
       "      <td>20720</td>\n",
       "      <td>248.536102</td>\n",
       "      <td>36061</td>\n",
       "      <td>New York</td>\n",
       "      <td>501</td>\n",
       "      <td>NEW YORK</td>\n",
       "      <td>10044</td>\n",
       "    </tr>\n",
       "  </tbody>\n",
       "</table>\n",
       "<p>18954 rows × 13 columns</p>\n",
       "</div>"
      ],
      "text/plain": [
       "               state state_abbreviation  county_fips  population   cases  \\\n",
       "date                                                                       \n",
       "2020-01-22  New York                 NY         61.0     8336817       0   \n",
       "2020-01-22  New York                 NY         61.0     8336817       0   \n",
       "2020-01-22  New York                 NY         61.0     8336817       0   \n",
       "2020-01-22  New York                 NY         61.0     8336817       0   \n",
       "2020-01-22  New York                 NY         61.0     8336817       0   \n",
       "...              ...                ...          ...         ...     ...   \n",
       "2020-05-17  New York                 NY         61.0     8336817  192593   \n",
       "2020-05-17  New York                 NY         61.0     8336817  192593   \n",
       "2020-05-17  New York                 NY         61.0     8336817  192593   \n",
       "2020-05-17  New York                 NY         61.0     8336817  192593   \n",
       "2020-05-17  New York                 NY         61.0     8336817  192593   \n",
       "\n",
       "             cases_norm  deaths  deaths_norm  fips_id    county  dma_id  \\\n",
       "date                                                                      \n",
       "2020-01-22     0.000000       0     0.000000    36061  New York     501   \n",
       "2020-01-22     0.000000       0     0.000000    36061  New York     501   \n",
       "2020-01-22     0.000000       0     0.000000    36061  New York     501   \n",
       "2020-01-22     0.000000       0     0.000000    36061  New York     501   \n",
       "2020-01-22     0.000000       0     0.000000    36061  New York     501   \n",
       "...                 ...     ...          ...      ...       ...     ...   \n",
       "2020-05-17  2310.150265   20720   248.536102    36061  New York     501   \n",
       "2020-05-17  2310.150265   20720   248.536102    36061  New York     501   \n",
       "2020-05-17  2310.150265   20720   248.536102    36061  New York     501   \n",
       "2020-05-17  2310.150265   20720   248.536102    36061  New York     501   \n",
       "2020-05-17  2310.150265   20720   248.536102    36061  New York     501   \n",
       "\n",
       "            dma_name    zip  \n",
       "date                         \n",
       "2020-01-22  NEW YORK  10001  \n",
       "2020-01-22  NEW YORK  10002  \n",
       "2020-01-22  NEW YORK  10003  \n",
       "2020-01-22  NEW YORK  10028  \n",
       "2020-01-22  NEW YORK  10029  \n",
       "...              ...    ...  \n",
       "2020-05-17  NEW YORK  10048  \n",
       "2020-05-17  NEW YORK  10047  \n",
       "2020-05-17  NEW YORK  10046  \n",
       "2020-05-17  NEW YORK  10045  \n",
       "2020-05-17  NEW YORK  10044  \n",
       "\n",
       "[18954 rows x 13 columns]"
      ]
     },
     "execution_count": 71,
     "metadata": {},
     "output_type": "execute_result"
    }
   ],
   "source": [
    "ny_dma_501 = dma_501[dma_501[\"county\"] == \"New York\"]\n",
    "ny_dma_501"
   ]
  },
  {
   "cell_type": "code",
   "execution_count": 112,
   "metadata": {},
   "outputs": [
    {
     "name": "stderr",
     "output_type": "stream",
     "text": [
      "/Users/gryv9001/miniconda3/envs/dsai37/lib/python3.7/site-packages/ipykernel_launcher.py:1: SettingWithCopyWarning: \n",
      "A value is trying to be set on a copy of a slice from a DataFrame.\n",
      "Try using .loc[row_indexer,col_indexer] = value instead\n",
      "\n",
      "See the caveats in the documentation: http://pandas.pydata.org/pandas-docs/stable/user_guide/indexing.html#returning-a-view-versus-a-copy\n",
      "  \"\"\"Entry point for launching an IPython kernel.\n"
     ]
    }
   ],
   "source": [
    "ny_dma_501[\"diff_cases\"] = ny_dma_501[\"cases\"].diff()"
   ]
  },
  {
   "cell_type": "code",
   "execution_count": 113,
   "metadata": {},
   "outputs": [
    {
     "name": "stderr",
     "output_type": "stream",
     "text": [
      "/Users/gryv9001/miniconda3/envs/dsai37/lib/python3.7/site-packages/ipykernel_launcher.py:1: SettingWithCopyWarning: \n",
      "A value is trying to be set on a copy of a slice from a DataFrame\n",
      "\n",
      "See the caveats in the documentation: http://pandas.pydata.org/pandas-docs/stable/user_guide/indexing.html#returning-a-view-versus-a-copy\n",
      "  \"\"\"Entry point for launching an IPython kernel.\n"
     ]
    }
   ],
   "source": [
    "ny_dma_501.dropna(inplace=True)"
   ]
  },
  {
   "cell_type": "code",
   "execution_count": 114,
   "metadata": {},
   "outputs": [
    {
     "data": {
      "text/plain": [
       "<matplotlib.axes._subplots.AxesSubplot at 0x1cb5bf2110>"
      ]
     },
     "execution_count": 114,
     "metadata": {},
     "output_type": "execute_result"
    },
    {
     "data": {
      "image/png": "[encoded data removed]",
      "text/plain": [
       "<Figure size 432x288 with 1 Axes>"
      ]
     },
     "metadata": {
      "image/png": {
       "height": 268,
       "width": 381
      },
      "needs_background": "light"
     },
     "output_type": "display_data"
    }
   ],
   "source": [
    "ny_dma_501[\"diff_cases\"].plot()"
   ]
  },
  {
   "cell_type": "code",
   "execution_count": 115,
   "metadata": {},
   "outputs": [
    {
     "data": {
      "text/plain": [
       "8336817"
      ]
     },
     "execution_count": 115,
     "metadata": {},
     "output_type": "execute_result"
    }
   ],
   "source": [
    "population = ny_dma_501[\"population\"][0]\n",
    "population"
   ]
  },
  {
   "cell_type": "code",
   "execution_count": 116,
   "metadata": {},
   "outputs": [
    {
     "data": {
      "text/plain": [
       "date\n",
       "2020-01-22    0.0\n",
       "2020-01-22    0.0\n",
       "2020-01-22    0.0\n",
       "2020-01-22    0.0\n",
       "2020-01-22    0.0\n",
       "             ... \n",
       "2020-05-17    0.0\n",
       "2020-05-17    0.0\n",
       "2020-05-17    0.0\n",
       "2020-05-17    0.0\n",
       "2020-05-17    0.0\n",
       "Name: diff_cases, Length: 18952, dtype: float64"
      ]
     },
     "execution_count": 116,
     "metadata": {},
     "output_type": "execute_result"
    }
   ],
   "source": [
    "p_delay = ny_dma_501[\"diff_cases\"]/population\n",
    "p_delay"
   ]
  },
  {
   "cell_type": "code",
   "execution_count": 117,
   "metadata": {},
   "outputs": [],
   "source": [
    "probs = 1 - (p_delay.values)"
   ]
  },
  {
   "cell_type": "code",
   "execution_count": 118,
   "metadata": {},
   "outputs": [
    {
     "data": {
      "text/plain": [
       "array([    0,     1,     2, ..., 18949, 18950, 18951])"
      ]
     },
     "execution_count": 118,
     "metadata": {},
     "output_type": "execute_result"
    }
   ],
   "source": [
    "np.arange(len(probs))"
   ]
  },
  {
   "cell_type": "code",
   "execution_count": 119,
   "metadata": {},
   "outputs": [
    {
     "data": {
      "text/plain": [
       "[<matplotlib.lines.Line2D at 0x1c8a93a350>]"
      ]
     },
     "execution_count": 119,
     "metadata": {},
     "output_type": "execute_result"
    },
    {
     "data": {
      "image/png": "[encoded data removed]",
      "text/plain": [
       "<Figure size 432x288 with 1 Axes>"
      ]
     },
     "metadata": {
      "image/png": {
       "height": 248,
       "width": 391
      },
      "needs_background": "light"
     },
     "output_type": "display_data"
    }
   ],
   "source": [
    "plt.plot(np.arange(len(probs)), probs)"
   ]
  },
  {
   "cell_type": "code",
   "execution_count": 106,
   "metadata": {},
   "outputs": [
    {
     "data": {
      "text/plain": [
       "[<matplotlib.lines.Line2D at 0x1c8d31a9d0>]"
      ]
     },
     "execution_count": 106,
     "metadata": {},
     "output_type": "execute_result"
    },
    {
     "data": {
      "image/png": "[encoded data removed]",
      "text/plain": [
       "<Figure size 432x288 with 1 Axes>"
      ]
     },
     "metadata": {
      "image/png": {
       "height": 248,
       "width": 409
      },
      "needs_background": "light"
     },
     "output_type": "display_data"
    }
   ],
   "source": [
    "v = np.log(90)/ np.log(probs)\n",
    "plt.plot(np.arange(len(v)), v)"
   ]
  },
  {
   "cell_type": "code",
   "execution_count": 90,
   "metadata": {},
   "outputs": [
    {
     "data": {
      "text/plain": [
       "<matplotlib.axes._subplots.AxesSubplot at 0x1c919aa610>"
      ]
     },
     "execution_count": 90,
     "metadata": {},
     "output_type": "execute_result"
    },
    {
     "data": {
      "image/png": "[encoded data removed]",
      "text/plain": [
       "<Figure size 432x288 with 1 Axes>"
      ]
     },
     "metadata": {
      "image/png": {
       "height": 268,
       "width": 391
      },
      "needs_background": "light"
     },
     "output_type": "display_data"
    }
   ],
   "source": [
    "p_delay.plot()"
   ]
  },
  {
   "cell_type": "code",
   "execution_count": null,
   "metadata": {},
   "outputs": [],
   "source": []
  }
 ],
 "metadata": {
  "kernelspec": {
   "display_name": "dsai37",
   "language": "python",
   "name": "dsai37"
  },
  "language_info": {
   "codemirror_mode": {
    "name": "ipython",
    "version": 3
   },
   "file_extension": ".py",
   "mimetype": "text/x-python",
   "name": "python",
   "nbconvert_exporter": "python",
   "pygments_lexer": "ipython3",
   "version": "3.7.6"
  }
 },
 "nbformat": 4,
 "nbformat_minor": 4
}
